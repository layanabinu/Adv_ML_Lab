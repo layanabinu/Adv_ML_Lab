{
  "cells": [
    {
      "cell_type": "code",
      "execution_count": 6,
      "metadata": {
        "colab": {
          "base_uri": "https://localhost:8080/",
          "height": 404
        },
        "id": "Ahb_cvNxY1GA",
        "outputId": "5fa97db0-c96a-421a-9e00-14b21aba470e"
      },
      "outputs": [
        {
          "name": "stdout",
          "output_type": "stream",
          "text": [
            "   Height(Inches)  Weight(Pounds)\n",
            "0        65.78331        112.9925\n",
            "1        71.51521        136.4873\n",
            "2        69.39874        153.0269\n",
            "3        68.21660        142.3354\n",
            "4        67.78781        144.2971\n"
          ]
        },
        {
          "data": {
            "text/html": [
              "<div>\n",
              "<style scoped>\n",
              "    .dataframe tbody tr th:only-of-type {\n",
              "        vertical-align: middle;\n",
              "    }\n",
              "\n",
              "    .dataframe tbody tr th {\n",
              "        vertical-align: top;\n",
              "    }\n",
              "\n",
              "    .dataframe thead th {\n",
              "        text-align: right;\n",
              "    }\n",
              "</style>\n",
              "<table border=\"1\" class=\"dataframe\">\n",
              "  <thead>\n",
              "    <tr style=\"text-align: right;\">\n",
              "      <th></th>\n",
              "      <th>Height(Inches)</th>\n",
              "      <th>Weight(Pounds)</th>\n",
              "    </tr>\n",
              "  </thead>\n",
              "  <tbody>\n",
              "    <tr>\n",
              "      <th>count</th>\n",
              "      <td>50.000000</td>\n",
              "      <td>50.000000</td>\n",
              "    </tr>\n",
              "    <tr>\n",
              "      <th>mean</th>\n",
              "      <td>68.052762</td>\n",
              "      <td>128.842936</td>\n",
              "    </tr>\n",
              "    <tr>\n",
              "      <th>std</th>\n",
              "      <td>1.823818</td>\n",
              "      <td>12.888502</td>\n",
              "    </tr>\n",
              "    <tr>\n",
              "      <th>min</th>\n",
              "      <td>63.481150</td>\n",
              "      <td>97.901910</td>\n",
              "    </tr>\n",
              "    <tr>\n",
              "      <th>25%</th>\n",
              "      <td>66.939800</td>\n",
              "      <td>120.873175</td>\n",
              "    </tr>\n",
              "    <tr>\n",
              "      <th>50%</th>\n",
              "      <td>67.868220</td>\n",
              "      <td>129.502500</td>\n",
              "    </tr>\n",
              "    <tr>\n",
              "      <th>75%</th>\n",
              "      <td>69.176640</td>\n",
              "      <td>140.075500</td>\n",
              "    </tr>\n",
              "    <tr>\n",
              "      <th>max</th>\n",
              "      <td>71.804840</td>\n",
              "      <td>153.026900</td>\n",
              "    </tr>\n",
              "  </tbody>\n",
              "</table>\n",
              "</div>"
            ],
            "text/plain": [
              "       Height(Inches)  Weight(Pounds)\n",
              "count       50.000000       50.000000\n",
              "mean        68.052762      128.842936\n",
              "std          1.823818       12.888502\n",
              "min         63.481150       97.901910\n",
              "25%         66.939800      120.873175\n",
              "50%         67.868220      129.502500\n",
              "75%         69.176640      140.075500\n",
              "max         71.804840      153.026900"
            ]
          },
          "execution_count": 6,
          "metadata": {},
          "output_type": "execute_result"
        }
      ],
      "source": [
        "import pandas as pd\n",
        "import numpy as np\n",
        "import matplotlib.pyplot as plt\n",
        "\n",
        "hw_df=pd.read_csv('C:/vscodefolder/AML_Lab/Datasets/SOCR-HeightWeight.csv')\n",
        "print(hw_df.head())\n",
        "hw_df.describe()"
      ]
    },
    {
      "cell_type": "code",
      "execution_count": 7,
      "metadata": {
        "colab": {
          "base_uri": "https://localhost:8080/",
          "height": 0
        },
        "id": "Ic5MkhZPv1ek",
        "outputId": "54ce75e2-f0fb-4773-e6d6-ecf9c58f1707"
      },
      "outputs": [
        {
          "data": {
            "text/plain": [
              "(50, 2)"
            ]
          },
          "execution_count": 7,
          "metadata": {},
          "output_type": "execute_result"
        }
      ],
      "source": [
        "hw_df.shape"
      ]
    },
    {
      "cell_type": "code",
      "execution_count": 8,
      "metadata": {
        "id": "wnFjU4oyY1To"
      },
      "outputs": [],
      "source": [
        "from sklearn.preprocessing import minmax_scale\n",
        "import pandas as pd\n",
        "\n",
        "hw_scaled = minmax_scale(hw_df[['Height(Inches)','Weight(Pounds)']], feature_range=(0,1))\n",
        "\n",
        "hw_df['Height(Norm)']=hw_scaled[:,0]\n",
        "hw_df['Weight(Norm)']=hw_scaled[:,1]"
      ]
    },
    {
      "cell_type": "code",
      "execution_count": 9,
      "metadata": {
        "colab": {
          "base_uri": "https://localhost:8080/",
          "height": 300
        },
        "id": "TkYeXXDvZglu",
        "outputId": "a1b62d6d-392e-43f7-a38e-1f53ffc8e8c6"
      },
      "outputs": [
        {
          "data": {
            "text/html": [
              "<div>\n",
              "<style scoped>\n",
              "    .dataframe tbody tr th:only-of-type {\n",
              "        vertical-align: middle;\n",
              "    }\n",
              "\n",
              "    .dataframe tbody tr th {\n",
              "        vertical-align: top;\n",
              "    }\n",
              "\n",
              "    .dataframe thead th {\n",
              "        text-align: right;\n",
              "    }\n",
              "</style>\n",
              "<table border=\"1\" class=\"dataframe\">\n",
              "  <thead>\n",
              "    <tr style=\"text-align: right;\">\n",
              "      <th></th>\n",
              "      <th>Height(Inches)</th>\n",
              "      <th>Weight(Pounds)</th>\n",
              "      <th>Height(Norm)</th>\n",
              "      <th>Weight(Norm)</th>\n",
              "    </tr>\n",
              "  </thead>\n",
              "  <tbody>\n",
              "    <tr>\n",
              "      <th>count</th>\n",
              "      <td>50.000000</td>\n",
              "      <td>50.000000</td>\n",
              "      <td>50.000000</td>\n",
              "      <td>50.000000</td>\n",
              "    </tr>\n",
              "    <tr>\n",
              "      <th>mean</th>\n",
              "      <td>68.052762</td>\n",
              "      <td>128.842936</td>\n",
              "      <td>0.549229</td>\n",
              "      <td>0.561289</td>\n",
              "    </tr>\n",
              "    <tr>\n",
              "      <th>std</th>\n",
              "      <td>1.823818</td>\n",
              "      <td>12.888502</td>\n",
              "      <td>0.219112</td>\n",
              "      <td>0.233805</td>\n",
              "    </tr>\n",
              "    <tr>\n",
              "      <th>min</th>\n",
              "      <td>63.481150</td>\n",
              "      <td>97.901910</td>\n",
              "      <td>0.000000</td>\n",
              "      <td>0.000000</td>\n",
              "    </tr>\n",
              "    <tr>\n",
              "      <th>25%</th>\n",
              "      <td>66.939800</td>\n",
              "      <td>120.873175</td>\n",
              "      <td>0.415519</td>\n",
              "      <td>0.416712</td>\n",
              "    </tr>\n",
              "    <tr>\n",
              "      <th>50%</th>\n",
              "      <td>67.868220</td>\n",
              "      <td>129.502500</td>\n",
              "      <td>0.527058</td>\n",
              "      <td>0.573253</td>\n",
              "    </tr>\n",
              "    <tr>\n",
              "      <th>75%</th>\n",
              "      <td>69.176640</td>\n",
              "      <td>140.075500</td>\n",
              "      <td>0.684251</td>\n",
              "      <td>0.765054</td>\n",
              "    </tr>\n",
              "    <tr>\n",
              "      <th>max</th>\n",
              "      <td>71.804840</td>\n",
              "      <td>153.026900</td>\n",
              "      <td>1.000000</td>\n",
              "      <td>1.000000</td>\n",
              "    </tr>\n",
              "  </tbody>\n",
              "</table>\n",
              "</div>"
            ],
            "text/plain": [
              "       Height(Inches)  Weight(Pounds)  Height(Norm)  Weight(Norm)\n",
              "count       50.000000       50.000000     50.000000     50.000000\n",
              "mean        68.052762      128.842936      0.549229      0.561289\n",
              "std          1.823818       12.888502      0.219112      0.233805\n",
              "min         63.481150       97.901910      0.000000      0.000000\n",
              "25%         66.939800      120.873175      0.415519      0.416712\n",
              "50%         67.868220      129.502500      0.527058      0.573253\n",
              "75%         69.176640      140.075500      0.684251      0.765054\n",
              "max         71.804840      153.026900      1.000000      1.000000"
            ]
          },
          "execution_count": 9,
          "metadata": {},
          "output_type": "execute_result"
        }
      ],
      "source": [
        "hw_df.describe()"
      ]
    },
    {
      "cell_type": "code",
      "execution_count": 10,
      "metadata": {
        "colab": {
          "base_uri": "https://localhost:8080/",
          "height": 0
        },
        "id": "PYRBCFlYavoF",
        "outputId": "8839711d-6787-4573-ed97-689b82fab6cd"
      },
      "outputs": [
        {
          "data": {
            "text/plain": [
              "Index(['Height(Inches)', 'Weight(Pounds)', 'Height(Norm)', 'Weight(Norm)'], dtype='object')"
            ]
          },
          "execution_count": 10,
          "metadata": {},
          "output_type": "execute_result"
        }
      ],
      "source": [
        "hw_df.columns"
      ]
    },
    {
      "cell_type": "code",
      "execution_count": 11,
      "metadata": {
        "colab": {
          "base_uri": "https://localhost:8080/",
          "height": 469
        },
        "id": "GkpXcCteZgpN",
        "outputId": "579c6580-48c3-46af-b9a2-849969ab6ae8"
      },
      "outputs": [
        {
          "data": {
            "text/plain": [
              "<Figure size 1000x1000 with 0 Axes>"
            ]
          },
          "metadata": {},
          "output_type": "display_data"
        },
        {
          "data": {
            "image/png": "[encoded data removed]",
            "text/plain": [
              "<Figure size 640x480 with 4 Axes>"
            ]
          },
          "metadata": {},
          "output_type": "display_data"
        }
      ],
      "source": [
        "plt.figure(figsize = (10, 10) )\n",
        "hw_df[['Height(Inches)','Height(Norm)','Weight(Pounds)','Weight(Norm)']].hist()\n",
        "plt.show()"
      ]
    },
    {
      "cell_type": "markdown",
      "metadata": {
        "id": "RqNuoMudcIgl"
      },
      "source": [
        "https://www.kaggle.com/code/alexisbcook/scaling-and-normalization"
      ]
    },
    {
      "cell_type": "code",
      "execution_count": 12,
      "metadata": {
        "id": "s9pB_t-scPUq"
      },
      "outputs": [],
      "source": [
        "# modules we'll use\n",
        "import pandas as pd\n",
        "import numpy as np\n",
        "\n",
        "# for Box-Cox Transformation\n",
        "from scipy import stats\n",
        "\n",
        "# for min_max scaling\n",
        "from mlxtend.preprocessing import minmax_scaling\n",
        "\n",
        "# plotting modules\n",
        "import seaborn as sns\n",
        "import matplotlib.pyplot as plt\n",
        "\n",
        "# set seed for reproducibility\n",
        "np.random.seed(0)"
      ]
    },
    {
      "cell_type": "code",
      "execution_count": 13,
      "metadata": {
        "colab": {
          "base_uri": "https://localhost:8080/",
          "height": 284
        },
        "id": "slyVgr5Tcrc9",
        "outputId": "bc0816fe-7e38-49cd-ee44-d52823dcb4f1"
      },
      "outputs": [
        {
          "data": {
            "image/png": "[encoded data removed]",
            "text/plain": [
              "<Figure size 1500x300 with 2 Axes>"
            ]
          },
          "metadata": {},
          "output_type": "display_data"
        }
      ],
      "source": [
        "original_data = np.random.exponential(size=1000)\n",
        "\n",
        "# mix-max scale the data between 0 and 1\n",
        "scaled_data = minmax_scaling(original_data, columns=[0])\n",
        "\n",
        "# plot both together to compare\n",
        "fig, ax = plt.subplots(1, 2, figsize=(15, 3))\n",
        "sns.histplot(original_data, ax=ax[0], kde=True, legend=False)\n",
        "ax[0].set_title(\"Original Data\")\n",
        "sns.histplot(scaled_data, ax=ax[1], kde=True, legend=False)\n",
        "ax[1].set_title(\"Scaled data\")\n",
        "plt.show()"
      ]
    }
  ],
  "metadata": {
    "colab": {
      "provenance": []
    },
    "kernelspec": {
      "display_name": "Python 3",
      "name": "python3"
    },
    "language_info": {
      "codemirror_mode": {
        "name": "ipython",
        "version": 3
      },
      "file_extension": ".py",
      "mimetype": "text/x-python",
      "name": "python",
      "nbconvert_exporter": "python",
      "pygments_lexer": "ipython3",
      "version": "3.12.3"
    }
  },
  "nbformat": 4,
  "nbformat_minor": 0
}
